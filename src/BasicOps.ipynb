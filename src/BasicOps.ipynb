{
 "cells": [
  {
   "cell_type": "markdown",
   "metadata": {},
   "source": [
    "# Basic operations notebook\n",
    "\n",
    "In this notebook I'll explain the first exercise lesson, namely\n",
    "*\"Basic Operations\"*.\n"
   ]
  },
  {
   "cell_type": "markdown",
   "metadata": {},
   "source": [
    "## First Exercise\n",
    "\n",
    "Description:\n",
    "\n",
    "Create a simple rust program that takes two numbers from the user standard input (console) and print their sum, difference, product and division.\n",
    "\n",
    "first of all I've created a new function to evaluate this exercise, I've called it `basic`.\n",
    "\n",
    "First we need to tell our user what do we want. In this case we need our user to input a number either integer or float:"
   ]
  },
  {
   "cell_type": "code",
   "execution_count": 2,
   "metadata": {},
   "outputs": [],
   "source": [
    "use std::io; // Needed to read user input"
   ]
  },
  {
   "cell_type": "code",
   "execution_count": 3,
   "metadata": {},
   "outputs": [
    {
     "name": "stdout",
     "output_type": "stream",
     "text": [
      "Please input a number\n"
     ]
    }
   ],
   "source": [
    "println!(\"Please input a number\");"
   ]
  },
  {
   "cell_type": "markdown",
   "metadata": {},
   "source": [
    "Now we need a variable to store the user input, in this case I'm going to name it `num1` since it will be the first number we are going to process.\n",
    "\n",
    "It is easier for us to read things as strings and then convert those to our convenient data type so we need to save our user input as a new string\n",
    "\n",
    "This variable will be changed by the user (or us) later, so we need to make it mutable:"
   ]
  },
  {
   "cell_type": "code",
   "execution_count": 4,
   "metadata": {},
   "outputs": [],
   "source": [
    "let mut num1 = String::new();"
   ]
  },
  {
   "cell_type": "markdown",
   "metadata": {},
   "source": [
    "Perfect, we allocated some space in our heap to save our string but we haven't read it yet. For that we need to use the standard input output library and handle any unexpected errors we could encounter, our `read_line()` function takes a mutable reference as an argument so we need to refer our String variable `num1` as this is the value we wish to read, finally we will use expect to handly any input/output errors we may encounter:"
   ]
  },
  {
   "cell_type": "code",
   "execution_count": 2,
   "metadata": {},
   "outputs": [
    {
     "ename": "Error",
     "evalue": "failed to resolve: use of undeclared type or module `io`",
     "output_type": "error",
     "traceback": [
      "io::stdin()",
      "\u001b[91m^^\u001b[0m \u001b[94muse of undeclared type or module `io`\u001b[0m",
      "failed to resolve: use of undeclared type or module `io`"
     ]
    },
    {
     "ename": "Error",
     "evalue": "cannot find value `input` in this scope",
     "output_type": "error",
     "traceback": [
      "    .read_line(&mut input)",
      "\u001b[91m                    ^^^^^\u001b[0m \u001b[94mnot found in this scope\u001b[0m",
      "cannot find value `input` in this scope"
     ]
    }
   ],
   "source": [
    "io::stdin()\n",
    "    .read_line(&mut num1)\n",
    "    .expect(\"Failed to read from stdin\");"
   ]
  },
  {
   "cell_type": "markdown",
   "metadata": {},
   "source": [
    "Now we need to convert the user's string to a number, for that we need to overwrite our variable and type it to a `f64` data type, trim any spaces or \"\\n\" chars the user inputs and finally parse the variable to our wanted type.\n",
    "\n",
    "In the same line we have to check if the user input was correct, so at the same time we have to `match` those operations and throw a result, if the conversion went all-righto we return a number and save it in our `num1` variable, if any error is encountered the program will panic and exit:"
   ]
  },
  {
   "cell_type": "code",
   "execution_count": null,
   "metadata": {},
   "outputs": [],
   "source": [
    "    let num1: f64 = match num1.trim().parse() {\n",
    "        Ok(num) => num,\n",
    "        Err(_) => panic!(\"Not a number!\"),\n",
    "    };"
   ]
  },
  {
   "cell_type": "markdown",
   "metadata": {},
   "source": [
    "We need to do the same for our second number:"
   ]
  },
  {
   "cell_type": "code",
   "execution_count": null,
   "metadata": {},
   "outputs": [],
   "source": [
    "    println!(\"Please input another number\");\n",
    "    let mut num2 = String::new();\n",
    "    io::stdin()\n",
    "        .read_line(&mut num2)\n",
    "        .expect(\"Could not read from stdin\");\n",
    "\n",
    "    let num2: f64 = match num2.trim().parse() {\n",
    "        Ok(num) => num,\n",
    "        Err(_) => panic!(\"Not a number!\"),\n",
    "    };"
   ]
  },
  {
   "cell_type": "markdown",
   "metadata": {},
   "source": [
    "Rust shares some similarities with other languages in it's printing macros, so we can operate directly inside them:"
   ]
  },
  {
   "cell_type": "code",
   "execution_count": null,
   "metadata": {},
   "outputs": [],
   "source": [
    "    println!(\"The diff of the numbers equals to: {}\", num1 - num2);\n",
    "    println!(\"The product of the numbers equals to: {}\", num1 * num2);\n",
    "    println!(\"The division of the numbers equals to: {}\", num1 / num2);"
   ]
  },
  {
   "cell_type": "markdown",
   "metadata": {},
   "source": [
    "Finally we have to check if our program works by running\n",
    "`cargo run` in our parent directory.\n",
    "\n",
    "The whole source code can be found on the `basic()` function inside the `main.rs` file or you can run it here:"
   ]
  },
  {
   "cell_type": "code",
   "execution_count": null,
   "metadata": {},
   "outputs": [],
   "source": [
    "fn main() {\n",
    "    println!(\"Please input a first number\");\n",
    "    let mut num1 = String::new();\n",
    "    io::stdin()\n",
    "        .read_line(&mut num1)\n",
    "        .expect(\"Could not read from stdin\");\n",
    "\n",
    "    let num1: f64 = match num1.trim().parse() {\n",
    "        Ok(num) => num,\n",
    "        Err(_) => panic!(\"Not a number!\"),\n",
    "    };\n",
    "\n",
    "    println!(\"Please input another number\");\n",
    "    let mut num2 = String::new();\n",
    "    io::stdin()\n",
    "        .read_line(&mut num2)\n",
    "        .expect(\"Could not read from stdin\");\n",
    "\n",
    "    let num2: f64 = match num2.trim().parse() {\n",
    "        Ok(num) => num,\n",
    "        Err(_) => panic!(\"Not a number!\"),\n",
    "    };\n",
    "\n",
    "    println!(\"The sum of the numbers equals to: {}\", num1 + num2);\n",
    "    println!(\"The diff of the numbers equals to: {}\", num1 - num2);\n",
    "    println!(\"The product of the numbers equals to: {}\", num1 * num2);\n",
    "    println!(\"The division of the numbers equals to: {}\", num1 / num2);\n",
    "}"
   ]
  }
 ],
 "metadata": {
  "kernelspec": {
   "display_name": "Rust",
   "language": "rust",
   "name": "rust"
  },
  "language_info": {
   "codemirror_mode": "rust",
   "file_extension": ".rs",
   "mimetype": "text/rust",
   "name": "Rust",
   "pygment_lexer": "rust",
   "version": ""
  }
 },
 "nbformat": 4,
 "nbformat_minor": 2
}
