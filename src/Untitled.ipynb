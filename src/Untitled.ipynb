{
 "cells": [
  {
   "cell_type": "markdown",
   "metadata": {},
   "source": [
    "# Basic operations notebook\n",
    "\n",
    "In this notebook I'll explain the first exercise, namely\n",
    "*\"Basic Operations\"*.\n",
    "\n",
    "Description:\n",
    "\n",
    "Create a simple rust program that takes two numbers from the user standard input (console) and print their sum, difference, product and division.\n",
    "\n",
    "first of all I've created a new function to evaluate this exercise, I've called it `basic`.\n",
    "\n",
    "First we need to tell our user what do we want. In this case we need our user to input a number either integer or float:"
   ]
  },
  {
   "cell_type": "code",
   "execution_count": null,
   "metadata": {},
   "outputs": [],
   "source": [
    "println!(\"Please input a number\");"
   ]
  },
  {
   "cell_type": "markdown",
   "metadata": {},
   "source": []
  }
 ],
 "metadata": {
  "kernelspec": {
   "display_name": "Rust",
   "language": "rust",
   "name": "rust"
  },
  "language_info": {
   "codemirror_mode": "rust",
   "file_extension": ".rs",
   "mimetype": "text/rust",
   "name": "Rust",
   "pygment_lexer": "rust",
   "version": ""
  }
 },
 "nbformat": 4,
 "nbformat_minor": 2
}
