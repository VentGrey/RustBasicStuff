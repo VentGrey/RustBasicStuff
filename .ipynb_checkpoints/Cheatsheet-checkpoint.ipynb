{
 "cells": [
  {
   "cell_type": "markdown",
   "metadata": {},
   "source": [
    "# Hello World (Printing to console)"
   ]
  },
  {
   "cell_type": "markdown",
   "metadata": {},
   "source": [
    "Print a message to console (in the same line)"
   ]
  },
  {
   "cell_type": "code",
   "execution_count": 2,
   "metadata": {},
   "outputs": [
    {
     "name": "stdout",
     "output_type": "stream",
     "text": [
      "Hello World\n"
     ]
    }
   ],
   "source": [
    "print!(\"Hello World\\n\");"
   ]
  },
  {
   "cell_type": "markdown",
   "metadata": {},
   "source": [
    "Print a message to the console (followed by a new-line)"
   ]
  },
  {
   "cell_type": "code",
   "execution_count": 3,
   "metadata": {
    "scrolled": true
   },
   "outputs": [
    {
     "name": "stdout",
     "output_type": "stream",
     "text": [
      "Hello World\n"
     ]
    }
   ],
   "source": [
    "println!(\"Hello World\");"
   ]
  },
  {
   "cell_type": "markdown",
   "metadata": {},
   "source": [
    "Printing is handled by various macros: some of them are:\n",
    "\n",
    "```rust\n",
    "format! -- Formatted text to a String\n",
    "print! -- Same as format! but String is printed to console\n",
    "println! -- Same as print! but a new line is appended\n",
    "eprint! -- Same as format! but text is printed to an std::err\n",
    "eprintln! -- Same as eprint! but a newline is appended\n",
    "```"
   ]
  },
  {
   "cell_type": "markdown",
   "metadata": {},
   "source": [
    "`print!/println!` arguments can be \"stringified\" using the `{}` operators for example:"
   ]
  },
  {
   "cell_type": "code",
   "execution_count": 4,
   "metadata": {},
   "outputs": [
    {
     "name": "stdout",
     "output_type": "stream",
     "text": [
      "Orchid was the 1st album of Opeth\n"
     ]
    }
   ],
   "source": [
    "println!(\"Orchid was the {}st album of Opeth\", 1);"
   ]
  },
  {
   "cell_type": "markdown",
   "metadata": {},
   "source": [
    "You can also use positional arguments to \"sort\" your output:"
   ]
  },
  {
   "cell_type": "code",
   "execution_count": 5,
   "metadata": {},
   "outputs": [
    {
     "name": "stdout",
     "output_type": "stream",
     "text": [
      "Otherside is better than Dani California\n"
     ]
    }
   ],
   "source": [
    "println!(\"{0} is better than {1}\", \"Otherside\", \"Dani California\");"
   ]
  },
  {
   "cell_type": "markdown",
   "metadata": {},
   "source": [
    "Another thing you can do is to name arguments to remember what do you want to print in a more \"ordered\" way:"
   ]
  },
  {
   "cell_type": "code",
   "execution_count": null,
   "metadata": {},
   "outputs": [],
   "source": [
    "println!(\"{subject} {verb} {object}\",\n",
    "        subject=\"Mikael Åkerfeldt\",\n",
    "        verb=\"Helped katatonia on\",\n",
    "        object=\"Brave Murder Day album.\");"
   ]
  }
 ],
 "metadata": {
  "kernelspec": {
   "display_name": "Rust",
   "language": "rust",
   "name": "rust"
  },
  "language_info": {
   "codemirror_mode": "rust",
   "file_extension": ".rs",
   "mimetype": "text/rust",
   "name": "Rust",
   "pygment_lexer": "rust",
   "version": ""
  }
 },
 "nbformat": 4,
 "nbformat_minor": 2
}
