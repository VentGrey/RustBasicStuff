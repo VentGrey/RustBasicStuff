{
 "cells": [
  {
   "cell_type": "markdown",
   "metadata": {},
   "source": [
    "# Hello World (Printing to console)"
   ]
  },
  {
   "cell_type": "markdown",
   "metadata": {},
   "source": [
    "Print a message to console (in the same line)"
   ]
  },
  {
   "cell_type": "code",
   "execution_count": 2,
   "metadata": {},
   "outputs": [
    {
     "name": "stdout",
     "output_type": "stream",
     "text": [
      "Hello World\n"
     ]
    }
   ],
   "source": [
    "print!(\"Hello World\\n\");"
   ]
  },
  {
   "cell_type": "markdown",
   "metadata": {},
   "source": [
    "Print a message to the console (followed by a new-line)"
   ]
  },
  {
   "cell_type": "code",
   "execution_count": 3,
   "metadata": {
    "scrolled": true
   },
   "outputs": [
    {
     "name": "stdout",
     "output_type": "stream",
     "text": [
      "Hello World\n"
     ]
    }
   ],
   "source": [
    "println!(\"Hello World\");"
   ]
  },
  {
   "cell_type": "markdown",
   "metadata": {},
   "source": [
    "Printing is handled by various macros: some of them are:\n",
    "\n",
    "```rust\n",
    "format! -- Formatted text to a String\n",
    "print! -- Same as format! but String is printed to console\n",
    "println! -- Same as print! but a new line is appended\n",
    "eprint! -- Same as format! but text is printed to an std::err\n",
    "eprintln! -- Same as eprint! but a newline is appended\n",
    "```"
   ]
  },
  {
   "cell_type": "markdown",
   "metadata": {},
   "source": [
    "`print!/println!` arguments can be \"stringified\" using the `{}` operators for example:"
   ]
  },
  {
   "cell_type": "code",
   "execution_count": 4,
   "metadata": {},
   "outputs": [
    {
     "name": "stdout",
     "output_type": "stream",
     "text": [
      "Orchid was the 1st album of Opeth\n"
     ]
    }
   ],
   "source": [
    "println!(\"Orchid was the {}st album of Opeth\", 1);"
   ]
  },
  {
   "cell_type": "markdown",
   "metadata": {},
   "source": [
    "You can also use positional arguments to \"sort\" your output:"
   ]
  },
  {
   "cell_type": "code",
   "execution_count": 5,
   "metadata": {},
   "outputs": [
    {
     "name": "stdout",
     "output_type": "stream",
     "text": [
      "Otherside is better than Dani California\n"
     ]
    }
   ],
   "source": [
    "println!(\"{0} is better than {1}\", \"Otherside\", \"Dani California\");"
   ]
  },
  {
   "cell_type": "markdown",
   "metadata": {},
   "source": [
    "Another thing you can do is to name arguments to remember what do you want to print in a more \"ordered\" way:"
   ]
  },
  {
   "cell_type": "code",
   "execution_count": 6,
   "metadata": {},
   "outputs": [
    {
     "name": "stdout",
     "output_type": "stream",
     "text": [
      "Mikael Åkerfeldt Helped katatonia on Brave Murder Day album.\n"
     ]
    }
   ],
   "source": [
    "println!(\"{subject} {verb} {object}\",\n",
    "        subject=\"Mikael Åkerfeldt\",\n",
    "        verb=\"Helped katatonia on\",\n",
    "        object=\"Brave Murder Day album.\");"
   ]
  },
  {
   "cell_type": "markdown",
   "metadata": {},
   "source": [
    "Formatting can be specified after a colon:"
   ]
  },
  {
   "cell_type": "code",
   "execution_count": null,
   "metadata": {},
   "outputs": [],
   "source": [
    "println!(\"{} of {:b} people know how to read binary\", 1, 2);"
   ]
  },
  {
   "cell_type": "markdown",
   "metadata": {},
   "source": [
    "# Data Types"
   ]
  },
  {
   "cell_type": "markdown",
   "metadata": {},
   "source": [
    "Rust has various data tipes, some of them are the signed integers:\n",
    "\n",
    "```rust\n",
    "i8\n",
    "i32\n",
    "i64\n",
    "i128\n",
    "```\n",
    "and the `isize` (pointer size).\n",
    "\n",
    "Also unsigned integers:\n",
    "\n",
    "```rust\n",
    "u8\n",
    "u32\n",
    "u64\n",
    "u128\n",
    "```\n",
    "and the `usize` (pointer size).\n",
    "\n",
    "Some floating points:\n",
    "\n",
    "```rust\n",
    "f32\n",
    "f64\n",
    "```\n",
    "\n",
    "* `char` types can take any `UTF-8` values (Even **emoji**! ⚙️).\n",
    "\n",
    "* `bool` types like any boolean thing can take either `true` or `false` values\n",
    "\n",
    "\n",
    "Rust also possess compound types, namely\n",
    "* Arrays\n",
    "* Tuples\n",
    "\n",
    "Arrays are a single-type, multiple elements compound, once declared they cannot grow/shrink, also once the first element of the array is declared all the remaining elements must match the first element data type:"
   ]
  },
  {
   "cell_type": "code",
   "execution_count": null,
   "metadata": {},
   "outputs": [],
   "source": [
    "let array = [1, 2, 3, 4, 5, 6 ,7];\n",
    "// An array composed out of integers"
   ]
  },
  {
   "cell_type": "markdown",
   "metadata": {},
   "source": [
    "Tuples in the other hand can share multiple data types, same as arrays, tuples have fixed length.\n",
    "\n",
    "While arrays are declared between brackets `[]`, tuples are declared between parenthesis `()`:"
   ]
  },
  {
   "cell_type": "code",
   "execution_count": null,
   "metadata": {},
   "outputs": [],
   "source": [
    "let tuple = (\"Some\", 1337, 't', \"uple\");\n",
    "// Multiple data tuples"
   ]
  },
  {
   "cell_type": "markdown",
   "metadata": {},
   "source": [
    "# # TYPE YOUR VARIABLES AS MUCH AS YOU CAN!"
   ]
  },
  {
   "cell_type": "markdown",
   "metadata": {},
   "source": [
    "Rust is a stongly-typed programming language. While it's \"ahead compilation\" nature can infer some types, the truth is rust cannot guess the data types always like python or ruby.\n",
    "\n",
    "Rust can be typed / annotated in various ways, via colon or as a suffix, here are some examples with printing:"
   ]
  },
  {
   "cell_type": "code",
   "execution_count": null,
   "metadata": {},
   "outputs": [],
   "source": [
    "// Integers default to i32 type\n",
    "let songs = 7;\n",
    "let unread: i64 = 9663;\n",
    "\n",
    "println!(\"Still life has {}.\", songs);\n",
    "println!(\"I have {} unread messages in Telegram.\")"
   ]
  }
 ],
 "metadata": {
  "kernelspec": {
   "display_name": "Rust",
   "language": "rust",
   "name": "rust"
  },
  "language_info": {
   "codemirror_mode": "rust",
   "file_extension": ".rs",
   "mimetype": "text/rust",
   "name": "Rust",
   "pygment_lexer": "rust",
   "version": ""
  }
 },
 "nbformat": 4,
 "nbformat_minor": 2
}
